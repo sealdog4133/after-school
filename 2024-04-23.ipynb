{
 "cells": [
  {
   "cell_type": "code",
   "execution_count": 17,
   "id": "f1e657b6-5fca-4933-89b7-9a339b78e68c",
   "metadata": {},
   "outputs": [],
   "source": [
    "class Room:\n",
    "    \n",
    "    num = -1\n",
    "\n",
    "    def __init__(self,num):\n",
    "        self.num = num\n",
    "        self.stu_dict = dict()\n",
    "    def is_in_stu_num(self,num):\n",
    "        if(num in self.stu_dict):\n",
    "            return True\n",
    "        else:\n",
    "            return False\n",
    "    def get_stu_info(self,num):\n",
    "        try:\n",
    "            return self.stu_dict(num)\n",
    "        except KeyError:\n",
    "            return \"\"\n",
    "    def add_stu(self, stu):\n",
    "        self.stu_dict[stu.get_info()[0]] = stu.get_info()[1]\n",
    "\n",
    "    def del_stu(self, num):\n",
    "        try:\n",
    "            del self.stu_dict[num]\n",
    "        except KeyError:\n",
    "            pass\n",
    "    def mod_stu(self, stu_num, stu_name):\n",
    "        try:\n",
    "            self.stu_dict[stu_num] = stu_name\n",
    "        except KeyError:\n",
    "            pass"
   ]
  },
  {
   "cell_type": "code",
   "execution_count": 18,
   "id": "4ce4bd37-bf3d-4cac-8010-74cb44348a19",
   "metadata": {},
   "outputs": [
    {
     "name": "stdin",
     "output_type": "stream",
     "text": [
      "이름을 입력하세요 :  손재영\n",
      "나이를 입력하세요 :  19\n",
      "도시를 입력하세요 :  성남\n"
     ]
    },
    {
     "name": "stdout",
     "output_type": "stream",
     "text": [
      "{'name': '손재영', 'age': 19, 'city': '성남'}\n"
     ]
    },
    {
     "data": {
      "text/plain": [
       "dict"
      ]
     },
     "execution_count": 18,
     "metadata": {},
     "output_type": "execute_result"
    }
   ],
   "source": [
    "my_dict = {}\n",
    "\n",
    "name = input(\"이름을 입력하세요 : \")\n",
    "age = int(input(\"나이를 입력하세요 : \"))\n",
    "city = input(\"도시를 입력하세요 : \")\n",
    "          \n",
    "my_dict['name'] = name\n",
    "my_dict['age'] = age\n",
    "my_dict['city'] = city\n",
    "          \n",
    "print(my_dict)\n",
    "type(my_dict)"
   ]
  },
  {
   "cell_type": "code",
   "execution_count": 25,
   "id": "0c36ff86-6e37-4082-8f29-6ece72778bdd",
   "metadata": {},
   "outputs": [
    {
     "ename": "NameError",
     "evalue": "name 'student' is not defined",
     "output_type": "error",
     "traceback": [
      "\u001b[1;31m---------------------------------------------------------------------------\u001b[0m",
      "\u001b[1;31mNameError\u001b[0m                                 Traceback (most recent call last)",
      "Cell \u001b[1;32mIn[25], line 1\u001b[0m\n\u001b[1;32m----> 1\u001b[0m student1 \u001b[38;5;241m=\u001b[39m \u001b[43mstudent\u001b[49m(\u001b[38;5;241m1\u001b[39m,\u001b[38;5;124m'\u001b[39m\u001b[38;5;124mhong\u001b[39m\u001b[38;5;124m'\u001b[39m)\n\u001b[0;32m      2\u001b[0m room1 \u001b[38;5;241m=\u001b[39m room(\u001b[38;5;241m1\u001b[39m)\n\u001b[0;32m      4\u001b[0m room1\u001b[38;5;241m.\u001b[39madd_stu(student1)\n",
      "\u001b[1;31mNameError\u001b[0m: name 'student' is not defined"
     ]
    }
   ],
   "source": [
    "student1 = student(1,'hong')\n",
    "room1 = room(1)\n",
    "\n",
    "room1.add_stu(student1)\n",
    "room1.mod_stu(2,'lee')\n",
    "\n",
    "room1.stu_dict"
   ]
  },
  {
   "cell_type": "code",
   "execution_count": 28,
   "id": "f8dd4a46-c331-415e-97ca-e921d2e55a56",
   "metadata": {},
   "outputs": [],
   "source": [
    "class manger:\n",
    "    def __init__(self):\n",
    "        self.room_dict = dict()\n",
    "    \n",
    "    def add_room(self):\n",
    "        self.room_dict[len(self.room_dict)+1] = room(len(self.room_dict)+1)\n",
    "    \n",
    "    def add_stu(self, room_num, stu):\n",
    "        try:\n",
    "            self.room_dict(room_num).add_stu(stu)\n",
    "        except KeyError:\n",
    "            print(\" 없는 교실입니다.\")\n",
    "    def del_stu(self, stu_num):\n",
    "        for i in range(len(self.room_dict)):\n",
    "            self.room_dict[i+1].del_stu(stu_num)\n",
    "    def mod_stu(self, stu_num, mod_name):\n",
    "        for i in range(len(self.room_dict)):\n",
    "            vaIue = self.room_dict[i+1].get_stu_info(stu_num)\n",
    "            if(len(value) != 0):\n",
    "                print(value)\n",
    "                break\n",
    "                \n",
    "    def show_room(self):\n",
    "        print(\"현재 \"+str(self.room_dict)+\"의 교실이 있습니다.\")"
   ]
  },
  {
   "cell_type": "code",
   "execution_count": 30,
   "id": "029b486b-db35-46a3-a071-864b628e43f9",
   "metadata": {},
   "outputs": [
    {
     "ename": "NameError",
     "evalue": "name 'student' is not defined",
     "output_type": "error",
     "traceback": [
      "\u001b[1;31m---------------------------------------------------------------------------\u001b[0m",
      "\u001b[1;31mNameError\u001b[0m                                 Traceback (most recent call last)",
      "Cell \u001b[1;32mIn[30], line 1\u001b[0m\n\u001b[1;32m----> 1\u001b[0m student1 \u001b[38;5;241m=\u001b[39m \u001b[43mstudent\u001b[49m(\u001b[38;5;241m1\u001b[39m,\u001b[38;5;124m'\u001b[39m\u001b[38;5;124mhong\u001b[39m\u001b[38;5;124m'\u001b[39m)\n\u001b[0;32m      2\u001b[0m room1 \u001b[38;5;241m=\u001b[39m room(\u001b[38;5;241m1\u001b[39m)\n\u001b[0;32m      4\u001b[0m room1\u001b[38;5;241m.\u001b[39madd_stu(student1)\n",
      "\u001b[1;31mNameError\u001b[0m: name 'student' is not defined"
     ]
    }
   ],
   "source": [
    "student1 = student(1,'hong')\n",
    "room1 = room(1)\n",
    "\n",
    "room1.add_stu(student1)\n",
    "room1.mod_stu(2,'lee')\n",
    "\n",
    "show_room(\"영준보이\")"
   ]
  },
  {
   "cell_type": "code",
   "execution_count": null,
   "id": "7c08e5b4-6240-4a47-a901-db7d208987ac",
   "metadata": {},
   "outputs": [],
   "source": []
  }
 ],
 "metadata": {
  "kernelspec": {
   "display_name": "Python 3 (ipykernel)",
   "language": "python",
   "name": "python3"
  },
  "language_info": {
   "codemirror_mode": {
    "name": "ipython",
    "version": 3
   },
   "file_extension": ".py",
   "mimetype": "text/x-python",
   "name": "python",
   "nbconvert_exporter": "python",
   "pygments_lexer": "ipython3",
   "version": "3.10.9"
  }
 },
 "nbformat": 4,
 "nbformat_minor": 5
}
